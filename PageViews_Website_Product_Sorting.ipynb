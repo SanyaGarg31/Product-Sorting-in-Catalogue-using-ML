{
  "nbformat": 4,
  "nbformat_minor": 0,
  "metadata": {
    "colab": {
      "provenance": []
    },
    "kernelspec": {
      "name": "python3",
      "display_name": "Python 3"
    },
    "language_info": {
      "name": "python"
    }
  },
  "cells": [
    {
      "cell_type": "markdown",
      "source": [
        "Importing packages Pandas (python library for data structutres and analytics) and two packages to call Google Analytics API."
      ],
      "metadata": {
        "id": "S0LIRY7ggP16"
      }
    },
    {
      "cell_type": "code",
      "execution_count": null,
      "metadata": {
        "id": "hPW-anAVLZo5"
      },
      "outputs": [],
      "source": [
        "import pandas as pd\n",
        "from apiclient.discovery import build\n",
        "from oauth2client.service_account import ServiceAccountCredentials"
      ]
    },
    {
      "cell_type": "markdown",
      "source": [
        "Calling the key(password that authorizes access to the data) and the right view(to access report and analysis tools)."
      ],
      "metadata": {
        "id": "HU9U_4bCgn3a"
      }
    },
    {
      "cell_type": "code",
      "source": [
        "SCOPES = ['https://www.googleapis.com/auth/analytics.readonly']\n",
        "KEY_FILE_LOCATION = '        '\n",
        "VIEW_ID = '        '"
      ],
      "metadata": {
        "id": "Eu-DIm_lLqmr"
      },
      "execution_count": null,
      "outputs": []
    },
    {
      "cell_type": "markdown",
      "source": [
        "Google API's documentation for web traffic for product's each page."
      ],
      "metadata": {
        "id": "yKjKLHNAgzNf"
      }
    },
    {
      "cell_type": "code",
      "source": [
        "\n",
        "def initialize_analyticsreporting():\n",
        "  credentials = ServiceAccountCredentials.from_json_keyfile_name(\n",
        "      KEY_FILE_LOCATION, SCOPES)\n",
        "  analytics = build('analyticsreporting', 'v4', credentials=credentials)\n",
        "  return analytics"
      ],
      "metadata": {
        "id": "Eb7BAiFUL4tP"
      },
      "execution_count": null,
      "outputs": []
    },
    {
      "cell_type": "code",
      "source": [
        "\n",
        "def get_report(analytics, pageTokenVar):\n",
        "  return analytics.reports().batchGet(\n",
        "      body={\n",
        "        'reportRequests': [\n",
        "        {\n",
        "          'viewId': VIEW_ID,\n",
        "          'dateRanges': [{'startDate': '600daysAgo', 'endDate': 'yesterday'}],\n",
        "          'metrics': [{'expression': 'ga:sessions'}, {'expression': 'ga:Pageviews'}], #, {'expression': 'ga:Goal completions'} didn't work.\n",
        "          'dimensions': [{'name': 'ga:Date'}],\n",
        "          'pageSize': 10000,\n",
        "          'pageToken': pageTokenVar,\n",
        "          'samplingLevel': 'LARGE'\n",
        "        }]\n",
        "      }\n",
        "  ).execute()"
      ],
      "metadata": {
        "id": "OehH29AYL9br"
      },
      "execution_count": null,
      "outputs": []
    },
    {
      "cell_type": "markdown",
      "source": [
        "Code for PageViews to perform analysis later."
      ],
      "metadata": {
        "id": "VGMMK2YFioTx"
      }
    },
    {
      "cell_type": "code",
      "source": [
        "def handle_report(analytics,pagetoken,rows):  \n",
        "    response = get_report(analytics, pagetoken) \n",
        "    columnHeader = response.get(\"reports\")[0].get('columnHeader', {})\n",
        "    dimensionHeaders = columnHeader.get('dimensions', [])\n",
        "    metricHeaders = columnHeader.get('metricHeader', {}).get('metricHeaderEntries', [])\n",
        "    pagetoken = response.get(\"reports\")[0].get('nextPageToken', None)\n",
        "    rowsNew = response.get(\"reports\")[0].get('data', {}).get('rows', [])\n",
        "    rows = rows + rowsNew\n",
        "    print(\"len(rows): \" + str(len(rows)))\n",
        "\n",
        "    if pagetoken != None:\n",
        "        return handle_report(analytics,pagetoken,rows)\n",
        "    else:\n",
        "\n",
        "        nicerows=[]\n",
        "        for row in rows:\n",
        "            dic={}\n",
        "            dimensions = row.get('dimensions', [])\n",
        "            dateRangeValues = row.get('metrics', [])\n",
        "\n",
        "            for header, dimension in zip(dimensionHeaders, dimensions):\n",
        "                dic[header] = dimension\n",
        "\n",
        "            for i, values in enumerate(dateRangeValues):\n",
        "                for metric, value in zip(metricHeaders, values.get('values')):\n",
        "                    if ',' in value or ',' in value:\n",
        "                        dic[metric.get('name')] = float(value)\n",
        "                    else:\n",
        "                        dic[metric.get('name')] = int(value)\n",
        "            nicerows.append(dic)\n",
        "        return nicerows"
      ],
      "metadata": {
        "id": "J_q3wn-2MB2_"
      },
      "execution_count": null,
      "outputs": []
    },
    {
      "cell_type": "markdown",
      "source": [
        "Expressing PageViews in DataFrame for analysis"
      ],
      "metadata": {
        "id": "DEz2bKmVisXD"
      }
    },
    {
      "cell_type": "code",
      "source": [
        "\n",
        "def main():    \n",
        "    analytics = initialize_analyticsreporting()\n",
        "     \n",
        "    global dfanalytics\n",
        "    dfanalytics = []\n",
        " \n",
        "    rows = []\n",
        "    rows = handle_report(analytics,'0',rows)\n",
        " \n",
        "    dfanalytics = pd.DataFrame(list(rows))\n",
        " \n",
        " \n",
        "main()\n",
        " \n",
        "print(dfanalytics)"
      ],
      "metadata": {
        "id": "Ms5rSk_qMFn4"
      },
      "execution_count": null,
      "outputs": []
    },
    {
      "cell_type": "markdown",
      "source": [
        "Predicting web traffic for future analysis."
      ],
      "metadata": {
        "id": "Kc-4DalGjvz3"
      }
    },
    {
      "cell_type": "code",
      "source": [
        "from fbprophet import Prophet\n",
        "from fbprophet.plot import add_changepoints_to_plot"
      ],
      "metadata": {
        "id": "c-tAU42BMqlm"
      },
      "execution_count": null,
      "outputs": []
    },
    {
      "cell_type": "markdown",
      "source": [
        "Changing the value column to 'y' and timestanp to 'ds' to make it a DateTime variable"
      ],
      "metadata": {
        "id": "80qV2-tGnP2l"
      }
    },
    {
      "cell_type": "code",
      "source": [
        "df = dfanalytics\n",
        "df['ds'] = pd.to_datetime(df['ga:Date'])\n",
        "df.rename(columns={'ga:sessions': 'y'}, inplace= True)\n",
        "df.drop(['ga:Date', 'ga:Pageviews'], axis=1, inplace=True)"
      ],
      "metadata": {
        "id": "pFczejFOnZSJ"
      },
      "execution_count": null,
      "outputs": []
    },
    {
      "cell_type": "markdown",
      "source": [
        "Creating a web traffic model and training it on the previous data obtained"
      ],
      "metadata": {
        "id": "7EVlO7SDnb8s"
      }
    },
    {
      "cell_type": "code",
      "source": [
        "model = Prophet(changepoint_prior_scale=0.5, changepoint_range=0.9, seasonality_mode='multiplicative', yearly_seasonality = 10)\n",
        "model.fit(df)"
      ],
      "metadata": {
        "id": "Eoa8K6KyniCG"
      },
      "execution_count": null,
      "outputs": []
    },
    {
      "cell_type": "markdown",
      "source": [
        "Creating future timestamps to predict future web traffic"
      ],
      "metadata": {
        "id": "2p1fpqionktR"
      }
    },
    {
      "cell_type": "code",
      "source": [
        "future = model.make_future_dataframe(periods= 60)\n",
        "future['cap'] = 120\n",
        "future['floor'] = 0\n",
        "print(future.tail())"
      ],
      "metadata": {
        "id": "FQ5v2gyooBid"
      },
      "execution_count": null,
      "outputs": []
    },
    {
      "cell_type": "markdown",
      "source": [
        "Forecasting the website traffic"
      ],
      "metadata": {
        "id": "0SPKA9E2oDpG"
      }
    },
    {
      "cell_type": "code",
      "source": [
        "forecast = model.predict(future)\n",
        "model.plot(forecast)"
      ],
      "metadata": {
        "id": "8otHs9KroKDk"
      },
      "execution_count": null,
      "outputs": []
    },
    {
      "cell_type": "markdown",
      "source": [
        "Also\n",
        "we can see overall trends compare to data and see where the data changes"
      ],
      "metadata": {
        "id": "z9N3iProoL3O"
      }
    },
    {
      "cell_type": "code",
      "source": [
        "fig = model.plot(forecast)\n",
        "a = add_changepoints_to_plot(fig.gca(), model, forecast)"
      ],
      "metadata": {
        "id": "HQl65Xf5oj66"
      },
      "execution_count": null,
      "outputs": []
    },
    {
      "cell_type": "markdown",
      "source": [
        "We can also see different components in our plot like weekly and yearly trends and make conclusions from it"
      ],
      "metadata": {
        "id": "_ASL6l-xokfd"
      }
    },
    {
      "cell_type": "code",
      "source": [
        "model.plot_components(forecast)"
      ],
      "metadata": {
        "id": "e28h0063ozx2"
      },
      "execution_count": null,
      "outputs": []
    },
    {
      "cell_type": "markdown",
      "source": [
        "We can also visualize our data through different plots"
      ],
      "metadata": {
        "id": "yEcWQ_rNo1kV"
      }
    },
    {
      "cell_type": "markdown",
      "source": [
        "Importing Data Visualization packages"
      ],
      "metadata": {
        "id": "L1L2bT0GpWs7"
      }
    },
    {
      "cell_type": "code",
      "source": [
        "import matplotlib.pyplot as plt\n",
        "import numpy as np\n",
        "import matplotlib.animation as animation\n",
        "from matplotlib import style\n",
        "from datetime import datetime\n",
        "from matplotlib.animation import FuncAnimation, PillowWriter\n",
        "%matplotlib inline"
      ],
      "metadata": {
        "id": "xQttWv1Bpbpd"
      },
      "execution_count": null,
      "outputs": []
    },
    {
      "cell_type": "markdown",
      "source": [
        "Plot based on our data and forecast"
      ],
      "metadata": {
        "id": "gDNtftKcpdXX"
      }
    },
    {
      "cell_type": "code",
      "source": [
        "with plt.style.context('dark_background'):\n",
        "    fig = plt.figure(figsize=(10,10))\n",
        "    plt.subplot(1,1,1)\n",
        "    plt.plot(forecast['ds'], forecast['yhat'], linewidth=0,marker=\"o\")"
      ],
      "metadata": {
        "id": "Udl3fh80pj6G"
      },
      "execution_count": null,
      "outputs": []
    }
  ]
}